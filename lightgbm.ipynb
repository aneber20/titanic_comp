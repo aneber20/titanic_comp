{
 "cells": [
  {
   "cell_type": "code",
   "execution_count": 6,
   "metadata": {},
   "outputs": [],
   "source": [
    "import lightgbm as lgb\n",
    "import torch\n",
    "import pandas as pd"
   ]
  },
  {
   "cell_type": "code",
   "execution_count": 3,
   "metadata": {},
   "outputs": [
    {
     "data": {
      "text/plain": [
       "False"
      ]
     },
     "execution_count": 3,
     "metadata": {},
     "output_type": "execute_result"
    }
   ],
   "source": [
    "torch.cuda.is_available()"
   ]
  },
  {
   "cell_type": "code",
   "execution_count": null,
   "metadata": {},
   "outputs": [],
   "source": [
    "## Set parameters\n",
    "learning_rate = 0.1\n",
    "num_leaves = 125\n",
    "num_trees = 250\n",
    "num_threads = 4\n",
    "min_data_in_leaf = 0\n",
    "min_sum_hessian_in_leaf = 100"
   ]
  },
  {
   "cell_type": "code",
   "execution_count": 4,
   "metadata": {},
   "outputs": [],
   "source": [
    "param = {'num_leaves': 31, 'objective': 'binary', 'device_type':'gpu'}\n"
   ]
  },
  {
   "cell_type": "code",
   "execution_count": 11,
   "metadata": {},
   "outputs": [
    {
     "data": {
      "text/plain": [
       "Unnamed: 0      [0, 1, 2, 5, 7, 8, 9, 10, 11, 12, 13, 15, 16, ...\n",
       "HomePlanet                             [Europa, Earth, Mars, nan]\n",
       "CryoSleep                                                  [0, 1]\n",
       "Destination        [TRAPPIST-1e, PSO J318.5-22, 55 Cancri e, nan]\n",
       "Age             [39.0, 24.0, 58.0, 44.0, 28.0, 35.0, 14.0, 34....\n",
       "VIP                                                        [0, 1]\n",
       "RoomService     [0.0, 109.0, 43.0, 39.0, 73.0, 719.0, 32.0, 12...\n",
       "FoodCourt       [0.0, 9.0, 3576.0, 483.0, 785.0, 7295.0, 1.0, ...\n",
       "ShoppingMall    [0.0, 25.0, 17.0, 589.0, 1123.0, 65.0, 876.0, ...\n",
       "Spa             [0.0, 549.0, 6715.0, 291.0, 216.0, 110.0, 998....\n",
       "VRDeck          [0.0, 44.0, 49.0, 124.0, 113.0, 24.0, 637.0, 6...\n",
       "Transported                                                [0, 1]\n",
       "Deck                                [B, F, A, G, nan, E, D, C, T]\n",
       "Cabin_num       [0.0, 3.0, 1.0, nan, 4.0, 5.0, 6.0, 9.0, 8.0, ...\n",
       "Side                                                  [P, S, nan]\n",
       "dtype: object"
      ]
     },
     "execution_count": 11,
     "metadata": {},
     "output_type": "execute_result"
    }
   ],
   "source": [
    "## Load in dataset\n",
    "train_df = pd.read_csv('C:/Users/Aneber/VScode Projects/titanic_competition/data/processed/train_processed.csv')\n",
    "val_df = pd.read_csv('C:/Users/Aneber/VScode Projects/titanic_competition/data/processed/valid_processed.csv')\n",
    "\n",
    "pd.Series({c: train_df[c].unique() for c in train_df})\n"
   ]
  },
  {
   "cell_type": "code",
   "execution_count": 12,
   "metadata": {},
   "outputs": [],
   "source": [
    "## Map object values to numbers\n",
    "planetMapping = {'Europa':1, 'Earth':2, 'Mars':3}\n",
    "destMapping = {'TRAPPIST-1e':1, 'PSO J318.5-22':2, '55 Cancri e':3}\n",
    "deckMapping = {'B':2, 'F':6, 'A':1, 'G':7, 'E':5, 'D':4, 'C':3, 'T':8}\n",
    "sideMapping = {'P':1, 'S':2}"
   ]
  },
  {
   "cell_type": "code",
   "execution_count": null,
   "metadata": {},
   "outputs": [],
   "source": [
    "for obj in ['HomePlanet', 'Destination', 'Deck', 'Side']:\n",
    "    train_df[obj] = train_df[obj].map\n",
    "    val_df"
   ]
  },
  {
   "cell_type": "code",
   "execution_count": 9,
   "metadata": {},
   "outputs": [
    {
     "ename": "ValueError",
     "evalue": "pandas dtypes must be int, float or bool.\nFields with bad pandas dtypes: HomePlanet: object, Destination: object, Deck: object, Side: object",
     "output_type": "error",
     "traceback": [
      "\u001b[1;31m---------------------------------------------------------------------------\u001b[0m",
      "\u001b[1;31mValueError\u001b[0m                                Traceback (most recent call last)",
      "Cell \u001b[1;32mIn[9], line 1\u001b[0m\n\u001b[1;32m----> 1\u001b[0m bst \u001b[39m=\u001b[39m lgb\u001b[39m.\u001b[39;49mtrain(param, train_data, \u001b[39m10\u001b[39;49m, valid_sets\u001b[39m=\u001b[39;49m[validation_data])\n",
      "File \u001b[1;32mc:\\Users\\Aneber\\AppData\\Local\\Programs\\Python\\Python311\\Lib\\site-packages\\lightgbm\\engine.py:245\u001b[0m, in \u001b[0;36mtrain\u001b[1;34m(params, train_set, num_boost_round, valid_sets, valid_names, feval, init_model, feature_name, categorical_feature, keep_training_booster, callbacks)\u001b[0m\n\u001b[0;32m    243\u001b[0m \u001b[39m# construct booster\u001b[39;00m\n\u001b[0;32m    244\u001b[0m \u001b[39mtry\u001b[39;00m:\n\u001b[1;32m--> 245\u001b[0m     booster \u001b[39m=\u001b[39m Booster(params\u001b[39m=\u001b[39;49mparams, train_set\u001b[39m=\u001b[39;49mtrain_set)\n\u001b[0;32m    246\u001b[0m     \u001b[39mif\u001b[39;00m is_valid_contain_train:\n\u001b[0;32m    247\u001b[0m         booster\u001b[39m.\u001b[39mset_train_data_name(train_data_name)\n",
      "File \u001b[1;32mc:\\Users\\Aneber\\AppData\\Local\\Programs\\Python\\Python311\\Lib\\site-packages\\lightgbm\\basic.py:3096\u001b[0m, in \u001b[0;36mBooster.__init__\u001b[1;34m(self, params, train_set, model_file, model_str)\u001b[0m\n\u001b[0;32m   3089\u001b[0m     \u001b[39mself\u001b[39m\u001b[39m.\u001b[39mset_network(\n\u001b[0;32m   3090\u001b[0m         machines\u001b[39m=\u001b[39mmachines,\n\u001b[0;32m   3091\u001b[0m         local_listen_port\u001b[39m=\u001b[39mparams[\u001b[39m\"\u001b[39m\u001b[39mlocal_listen_port\u001b[39m\u001b[39m\"\u001b[39m],\n\u001b[0;32m   3092\u001b[0m         listen_time_out\u001b[39m=\u001b[39mparams\u001b[39m.\u001b[39mget(\u001b[39m\"\u001b[39m\u001b[39mtime_out\u001b[39m\u001b[39m\"\u001b[39m, \u001b[39m120\u001b[39m),\n\u001b[0;32m   3093\u001b[0m         num_machines\u001b[39m=\u001b[39mparams[\u001b[39m\"\u001b[39m\u001b[39mnum_machines\u001b[39m\u001b[39m\"\u001b[39m]\n\u001b[0;32m   3094\u001b[0m     )\n\u001b[0;32m   3095\u001b[0m \u001b[39m# construct booster object\u001b[39;00m\n\u001b[1;32m-> 3096\u001b[0m train_set\u001b[39m.\u001b[39;49mconstruct()\n\u001b[0;32m   3097\u001b[0m \u001b[39m# copy the parameters from train_set\u001b[39;00m\n\u001b[0;32m   3098\u001b[0m params\u001b[39m.\u001b[39mupdate(train_set\u001b[39m.\u001b[39mget_params())\n",
      "File \u001b[1;32mc:\\Users\\Aneber\\AppData\\Local\\Programs\\Python\\Python311\\Lib\\site-packages\\lightgbm\\basic.py:2210\u001b[0m, in \u001b[0;36mDataset.construct\u001b[1;34m(self)\u001b[0m\n\u001b[0;32m   2203\u001b[0m             \u001b[39mself\u001b[39m\u001b[39m.\u001b[39m_set_init_score_by_predictor(\n\u001b[0;32m   2204\u001b[0m                 predictor\u001b[39m=\u001b[39m\u001b[39mself\u001b[39m\u001b[39m.\u001b[39m_predictor,\n\u001b[0;32m   2205\u001b[0m                 data\u001b[39m=\u001b[39m\u001b[39mself\u001b[39m\u001b[39m.\u001b[39mdata,\n\u001b[0;32m   2206\u001b[0m                 used_indices\u001b[39m=\u001b[39mused_indices\n\u001b[0;32m   2207\u001b[0m             )\n\u001b[0;32m   2208\u001b[0m \u001b[39melse\u001b[39;00m:\n\u001b[0;32m   2209\u001b[0m     \u001b[39m# create train\u001b[39;00m\n\u001b[1;32m-> 2210\u001b[0m     \u001b[39mself\u001b[39;49m\u001b[39m.\u001b[39;49m_lazy_init(data\u001b[39m=\u001b[39;49m\u001b[39mself\u001b[39;49m\u001b[39m.\u001b[39;49mdata, label\u001b[39m=\u001b[39;49m\u001b[39mself\u001b[39;49m\u001b[39m.\u001b[39;49mlabel, reference\u001b[39m=\u001b[39;49m\u001b[39mNone\u001b[39;49;00m,\n\u001b[0;32m   2211\u001b[0m                     weight\u001b[39m=\u001b[39;49m\u001b[39mself\u001b[39;49m\u001b[39m.\u001b[39;49mweight, group\u001b[39m=\u001b[39;49m\u001b[39mself\u001b[39;49m\u001b[39m.\u001b[39;49mgroup,\n\u001b[0;32m   2212\u001b[0m                     init_score\u001b[39m=\u001b[39;49m\u001b[39mself\u001b[39;49m\u001b[39m.\u001b[39;49minit_score, predictor\u001b[39m=\u001b[39;49m\u001b[39mself\u001b[39;49m\u001b[39m.\u001b[39;49m_predictor,\n\u001b[0;32m   2213\u001b[0m                     feature_name\u001b[39m=\u001b[39;49m\u001b[39mself\u001b[39;49m\u001b[39m.\u001b[39;49mfeature_name, categorical_feature\u001b[39m=\u001b[39;49m\u001b[39mself\u001b[39;49m\u001b[39m.\u001b[39;49mcategorical_feature, params\u001b[39m=\u001b[39;49m\u001b[39mself\u001b[39;49m\u001b[39m.\u001b[39;49mparams)\n\u001b[0;32m   2214\u001b[0m \u001b[39mif\u001b[39;00m \u001b[39mself\u001b[39m\u001b[39m.\u001b[39mfree_raw_data:\n\u001b[0;32m   2215\u001b[0m     \u001b[39mself\u001b[39m\u001b[39m.\u001b[39mdata \u001b[39m=\u001b[39m \u001b[39mNone\u001b[39;00m\n",
      "File \u001b[1;32mc:\\Users\\Aneber\\AppData\\Local\\Programs\\Python\\Python311\\Lib\\site-packages\\lightgbm\\basic.py:1801\u001b[0m, in \u001b[0;36mDataset._lazy_init\u001b[1;34m(self, data, label, reference, weight, group, init_score, predictor, feature_name, categorical_feature, params)\u001b[0m\n\u001b[0;32m   1799\u001b[0m     \u001b[39mself\u001b[39m\u001b[39m.\u001b[39mpandas_categorical \u001b[39m=\u001b[39m reference\u001b[39m.\u001b[39mpandas_categorical\n\u001b[0;32m   1800\u001b[0m     categorical_feature \u001b[39m=\u001b[39m reference\u001b[39m.\u001b[39mcategorical_feature\n\u001b[1;32m-> 1801\u001b[0m data, feature_name, categorical_feature, \u001b[39mself\u001b[39m\u001b[39m.\u001b[39mpandas_categorical \u001b[39m=\u001b[39m _data_from_pandas(data\u001b[39m=\u001b[39;49mdata,\n\u001b[0;32m   1802\u001b[0m                                                                                      feature_name\u001b[39m=\u001b[39;49mfeature_name,\n\u001b[0;32m   1803\u001b[0m                                                                                      categorical_feature\u001b[39m=\u001b[39;49mcategorical_feature,\n\u001b[0;32m   1804\u001b[0m                                                                                      pandas_categorical\u001b[39m=\u001b[39;49m\u001b[39mself\u001b[39;49m\u001b[39m.\u001b[39;49mpandas_categorical)\n\u001b[0;32m   1806\u001b[0m \u001b[39m# process for args\u001b[39;00m\n\u001b[0;32m   1807\u001b[0m params \u001b[39m=\u001b[39m {} \u001b[39mif\u001b[39;00m params \u001b[39mis\u001b[39;00m \u001b[39mNone\u001b[39;00m \u001b[39melse\u001b[39;00m params\n",
      "File \u001b[1;32mc:\\Users\\Aneber\\AppData\\Local\\Programs\\Python\\Python311\\Lib\\site-packages\\lightgbm\\basic.py:698\u001b[0m, in \u001b[0;36m_data_from_pandas\u001b[1;34m(data, feature_name, categorical_feature, pandas_categorical)\u001b[0m\n\u001b[0;32m    696\u001b[0m \u001b[39mif\u001b[39;00m feature_name \u001b[39m==\u001b[39m \u001b[39m'\u001b[39m\u001b[39mauto\u001b[39m\u001b[39m'\u001b[39m:\n\u001b[0;32m    697\u001b[0m     feature_name \u001b[39m=\u001b[39m \u001b[39mlist\u001b[39m(data\u001b[39m.\u001b[39mcolumns)\n\u001b[1;32m--> 698\u001b[0m _check_for_bad_pandas_dtypes(data\u001b[39m.\u001b[39;49mdtypes)\n\u001b[0;32m    699\u001b[0m df_dtypes \u001b[39m=\u001b[39m [dtype\u001b[39m.\u001b[39mtype \u001b[39mfor\u001b[39;00m dtype \u001b[39min\u001b[39;00m data\u001b[39m.\u001b[39mdtypes]\n\u001b[0;32m    700\u001b[0m df_dtypes\u001b[39m.\u001b[39mappend(np\u001b[39m.\u001b[39mfloat32)  \u001b[39m# so that the target dtype considers floats\u001b[39;00m\n",
      "File \u001b[1;32mc:\\Users\\Aneber\\AppData\\Local\\Programs\\Python\\Python311\\Lib\\site-packages\\lightgbm\\basic.py:661\u001b[0m, in \u001b[0;36m_check_for_bad_pandas_dtypes\u001b[1;34m(pandas_dtypes_series)\u001b[0m\n\u001b[0;32m    655\u001b[0m bad_pandas_dtypes \u001b[39m=\u001b[39m [\n\u001b[0;32m    656\u001b[0m     \u001b[39mf\u001b[39m\u001b[39m'\u001b[39m\u001b[39m{\u001b[39;00mcolumn_name\u001b[39m}\u001b[39;00m\u001b[39m: \u001b[39m\u001b[39m{\u001b[39;00mpandas_dtype\u001b[39m}\u001b[39;00m\u001b[39m'\u001b[39m\n\u001b[0;32m    657\u001b[0m     \u001b[39mfor\u001b[39;00m column_name, pandas_dtype \u001b[39min\u001b[39;00m pandas_dtypes_series\u001b[39m.\u001b[39mitems()\n\u001b[0;32m    658\u001b[0m     \u001b[39mif\u001b[39;00m \u001b[39mnot\u001b[39;00m _is_allowed_numpy_dtype(pandas_dtype\u001b[39m.\u001b[39mtype)\n\u001b[0;32m    659\u001b[0m ]\n\u001b[0;32m    660\u001b[0m \u001b[39mif\u001b[39;00m bad_pandas_dtypes:\n\u001b[1;32m--> 661\u001b[0m     \u001b[39mraise\u001b[39;00m \u001b[39mValueError\u001b[39;00m(\u001b[39m'\u001b[39m\u001b[39mpandas dtypes must be int, float or bool.\u001b[39m\u001b[39m\\n\u001b[39;00m\u001b[39m'\u001b[39m\n\u001b[0;32m    662\u001b[0m                      \u001b[39mf\u001b[39m\u001b[39m'\u001b[39m\u001b[39mFields with bad pandas dtypes: \u001b[39m\u001b[39m{\u001b[39;00m\u001b[39m\"\u001b[39m\u001b[39m, \u001b[39m\u001b[39m\"\u001b[39m\u001b[39m.\u001b[39mjoin(bad_pandas_dtypes)\u001b[39m}\u001b[39;00m\u001b[39m'\u001b[39m)\n",
      "\u001b[1;31mValueError\u001b[0m: pandas dtypes must be int, float or bool.\nFields with bad pandas dtypes: HomePlanet: object, Destination: object, Deck: object, Side: object"
     ]
    }
   ],
   "source": [
    "bst = lgb.train(param, train_data, 10, valid_sets=[validation_data])"
   ]
  }
 ],
 "metadata": {
  "kernelspec": {
   "display_name": "Python 3",
   "language": "python",
   "name": "python3"
  },
  "language_info": {
   "codemirror_mode": {
    "name": "ipython",
    "version": 3
   },
   "file_extension": ".py",
   "mimetype": "text/x-python",
   "name": "python",
   "nbconvert_exporter": "python",
   "pygments_lexer": "ipython3",
   "version": "3.11.3"
  },
  "orig_nbformat": 4
 },
 "nbformat": 4,
 "nbformat_minor": 2
}
